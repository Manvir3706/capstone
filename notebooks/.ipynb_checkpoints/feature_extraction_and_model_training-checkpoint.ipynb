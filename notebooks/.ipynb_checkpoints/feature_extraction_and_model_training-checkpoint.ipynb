{
 "cells": [
  {
   "cell_type": "code",
   "execution_count": 13,
   "metadata": {},
   "outputs": [],
   "source": [
    "import os\n",
    "import sys\n",
    "import torch\n",
    "import torch.backends.cudnn as cudnn\n",
    "from os import path, mkdir\n",
    "import logging\n",
    "from torch.utils.tensorboard import SummaryWriter\n",
    "\n",
    "module_path = os.path.abspath(os.path.join('..'))\n",
    "if module_path not in sys.path:\n",
    "    sys.path.append(module_path)\n",
    "\n",
    "from feature_extractor import FeaturesWriter, get_features_loader\n",
    "from utils.utils import register_logger # get_torch_device\n",
    "from utils.load_model import load_feature_extractor\n",
    "from features_loader import FeaturesLoader\n",
    "from network.TorchUtils import TorchModel\n",
    "from network.anomaly_detector_model import AnomalyDetector, custom_objective, RegularizedLoss\n",
    "from utils.callbacks import DefaultModelCallback, TensorBoardCallback"
   ]
  },
  {
   "cell_type": "markdown",
   "metadata": {},
   "source": [
    "# Definitions"
   ]
  },
  {
   "cell_type": "markdown",
   "metadata": {},
   "source": [
    "## Global definitions"
   ]
  },
  {
   "cell_type": "code",
   "execution_count": 15,
   "metadata": {},
   "outputs": [],
   "source": [
    "log_every = 50  # log the writing of clips every n steps\n",
    "log_file = None  # set logging file\n",
    "num_workers = 32  # define the number of workers used for loading the videos\n",
    "\n",
    "cudnn.benchmark = True\n",
    "register_logger(log_file=log_file)\n",
    "\n",
    "device = torch.cuda.is_available()"
   ]
  },
  {
   "cell_type": "markdown",
   "metadata": {},
   "source": [
    "## Definitions of features extraction"
   ]
  },
  {
   "cell_type": "code",
   "execution_count": 10,
   "metadata": {},
   "outputs": [],
   "source": [
    "dataset_path = 'repos/llm-rag/data/Anomaly-Videos-Part-1'  # path to the video dataset\n",
    "clip_length = 16  # define the length of each input sample\n",
    "frame_interval = 1 # define the sampling interval between frames\n",
    "features_dir = 'repos/llm-rag/AnomalyDetectionCVPR2018-Pytorch/features'  # set directory for the features\n",
    "batch_size = 4\n",
    "model_type = 'c3d'\n",
    "pretrained_3d = 'repos/llm-rag/AnomalyDetectionCVPR2018-Pytorch/pretrained/MFNet3D_UCF-101_Split-1_96.3.pth' # set the path of the 3d feature extractor"
   ]
  },
  {
   "cell_type": "markdown",
   "metadata": {},
   "source": [
    "## Definitions of training"
   ]
  },
  {
   "cell_type": "code",
   "execution_count": 11,
   "metadata": {},
   "outputs": [],
   "source": [
    "annotation_path = 'repos/llm-rag/AnomalyDetectionCVPR2018-Pytorch/pretrained/MFNet3D_UCF-101_Split-1_96.3.pth'  # path to train annotation\n",
    "exps_dir = 'repos/llm-rag/AnomalyDetectionCVPR2018-Pytorch/exps'  # path to the directory where models and tensorboard would be saved\n",
    "feature_dim = 4096\n",
    "save_every = 1  # epochs interval for saving the model checkpoints\n",
    "lr_base = 0.01  # learning rate\n",
    "iterations_per_epoch = 20000  # number of training iterations\n",
    "epochs = 2  # number of training epochs\n",
    "\n",
    "\n",
    "models_dir = path.join(exps_dir, 'models')\n",
    "tb_dir = path.join(exps_dir, 'tensorboard')\n",
    "\n",
    "os.makedirs(exps_dir, exist_ok=True)\n",
    "os.makedirs(models_dir, exist_ok=True)\n",
    "os.makedirs(tb_dir, exist_ok=True)"
   ]
  },
  {
   "cell_type": "markdown",
   "metadata": {},
   "source": [
    "# Features Extraction"
   ]
  },
  {
   "cell_type": "markdown",
   "metadata": {},
   "source": [
    "## Create model and dataset"
   ]
  },
  {
   "cell_type": "code",
   "execution_count": 12,
   "metadata": {},
   "outputs": [
    {
     "ename": "NameError",
     "evalue": "name 'args' is not defined",
     "output_type": "error",
     "traceback": [
      "\u001b[0;31m---------------------------------------------------------------------------\u001b[0m",
      "\u001b[0;31mNameError\u001b[0m                                 Traceback (most recent call last)",
      "Cell \u001b[0;32mIn[12], line 1\u001b[0m\n\u001b[0;32m----> 1\u001b[0m data_loader, data_iter \u001b[38;5;241m=\u001b[39m get_features_loader(\u001b[43margs\u001b[49m\u001b[38;5;241m.\u001b[39mdataset_path,\n\u001b[1;32m      2\u001b[0m                                             clip_length,\n\u001b[1;32m      3\u001b[0m                                             frame_interval,\n\u001b[1;32m      4\u001b[0m                                             batch_size,\n\u001b[1;32m      5\u001b[0m                                             num_workers,\n\u001b[1;32m      6\u001b[0m                                             model_type)\n\u001b[1;32m      8\u001b[0m network \u001b[38;5;241m=\u001b[39m load_feature_extractor(args\u001b[38;5;241m.\u001b[39mmodel_type, args\u001b[38;5;241m.\u001b[39mpretrained_3d, device)\u001b[38;5;241m.\u001b[39meval()\n\u001b[1;32m     10\u001b[0m features_writer \u001b[38;5;241m=\u001b[39m FeaturesWriter(num_videos\u001b[38;5;241m=\u001b[39mdata_loader\u001b[38;5;241m.\u001b[39mvideo_count)\n",
      "\u001b[0;31mNameError\u001b[0m: name 'args' is not defined"
     ]
    }
   ],
   "source": [
    "data_loader, data_iter = get_features_loader(args.dataset_path,\n",
    "                                            clip_length,\n",
    "                                            frame_interval,\n",
    "                                            batch_size,\n",
    "                                            num_workers,\n",
    "                                            model_type)\n",
    "\n",
    "network = load_feature_extractor(args.model_type, args.pretrained_3d, device).eval()\n",
    "\n",
    "features_writer = FeaturesWriter(num_videos=data_loader.video_count)"
   ]
  },
  {
   "cell_type": "code",
   "execution_count": null,
   "metadata": {},
   "outputs": [],
   "source": [
    "if not path.exists(features_dir):\n",
    "    mkdir(features_dir)"
   ]
  },
  {
   "cell_type": "code",
   "execution_count": null,
   "metadata": {},
   "outputs": [],
   "source": [
    "loop_i = 0\n",
    "with torch.no_grad():\n",
    "    for data, clip_idxs, dirs, vid_names in data_iter:\n",
    "        outputs = network(data.to(device)).detach().cpu().numpy()\n",
    "\n",
    "        for i, (dir, vid_name, clip_idx) in enumerate(zip(dirs, vid_names, clip_idxs)):\n",
    "            if loop_i == 0:\n",
    "                logging.info(\n",
    "                    f\"Video {features_writer.dump_count} / {features_writer.num_videos} : Writing clip {clip_idx} of video {vid_name}\")\n",
    "\n",
    "            loop_i += 1\n",
    "            loop_i %= args.log_every\n",
    "\n",
    "            dir = path.join(args.save_dir, dir)\n",
    "            features_writer.write(feature=outputs[i],\n",
    "                                  video_name=vid_name,\n",
    "                                  idx=clip_idx,\n",
    "                                  dir=dir, )\n",
    "\n",
    "features_writer.dump()"
   ]
  },
  {
   "cell_type": "markdown",
   "metadata": {},
   "source": [
    "# Train the Anomaly Detection Model Using the Extracted Features"
   ]
  },
  {
   "cell_type": "markdown",
   "metadata": {},
   "source": [
    "## Create model, dataset, optimizer and loss function"
   ]
  },
  {
   "cell_type": "code",
   "execution_count": null,
   "metadata": {},
   "outputs": [],
   "source": [
    "train_loader = FeaturesLoader(features_path=features_dir,\n",
    "                                  annotation_path=annotation_path,\n",
    "                                  iterations=iterations_per_epoch)\n",
    "\n",
    "network = AnomalyDetector(args.feature_dim)\n",
    "model = TorchModel(network).to(device).train()\n",
    "\n",
    "# Callbacks\n",
    "model.register_callback(DefaultModelCallback(visualization_dir=args.exps_dir))\n",
    "model.register_callback(TensorBoardCallback(tb_writer=SummaryWriter(log_dir=tb_dir)))\n",
    "\n",
    "# Training parameters\n",
    "\"\"\"\n",
    "In the original paper:\n",
    "    lr = 0.01\n",
    "    epsilon = 1e-8\n",
    "\"\"\"\n",
    "optimizer = torch.optim.Adadelta(model.parameters(), lr=args.lr_base, eps=1e-8)\n",
    "\n",
    "criterion = RegularizedLoss(network, custom_objective).to(device)"
   ]
  },
  {
   "cell_type": "markdown",
   "metadata": {},
   "source": [
    "## Train the model"
   ]
  },
  {
   "cell_type": "code",
   "execution_count": null,
   "metadata": {},
   "outputs": [],
   "source": [
    "model.fit(train_iter=train_loader,\n",
    "              criterion=criterion,\n",
    "              optimizer=optimizer,\n",
    "              epochs=epochs,\n",
    "              network_model_path_base=models_dir,\n",
    "              save_every=save_every)"
   ]
  }
 ],
 "metadata": {
  "kernelspec": {
   "display_name": "Python 3 (ipykernel)",
   "language": "python",
   "name": "python3"
  },
  "language_info": {
   "codemirror_mode": {
    "name": "ipython",
    "version": 3
   },
   "file_extension": ".py",
   "mimetype": "text/x-python",
   "name": "python",
   "nbconvert_exporter": "python",
   "pygments_lexer": "ipython3",
   "version": "3.10.13"
  }
 },
 "nbformat": 4,
 "nbformat_minor": 4
}
